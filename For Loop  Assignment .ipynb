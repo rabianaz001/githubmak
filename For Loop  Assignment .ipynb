{
 "cells": [
  {
   "cell_type": "markdown",
   "metadata": {},
   "source": [
    "1. Write a Python program to print the numbers from 1 to 10 using a `for` loop."
   ]
  },
  {
   "cell_type": "code",
   "execution_count": 38,
   "metadata": {},
   "outputs": [
    {
     "name": "stdout",
     "output_type": "stream",
     "text": [
      "1\n",
      "2\n",
      "3\n",
      "4\n",
      "5\n",
      "6\n",
      "7\n",
      "8\n",
      "9\n",
      "10\n"
     ]
    }
   ],
   "source": [
    "for i in range(1,11): \n",
    "    print(i)"
   ]
  },
  {
   "cell_type": "markdown",
   "metadata": {},
   "source": [
    "2. Create a program that calculates the sum of all numbers in a list using a `for` loop."
   ]
  },
  {
   "cell_type": "code",
   "execution_count": 17,
   "metadata": {},
   "outputs": [
    {
     "name": "stdout",
     "output_type": "stream",
     "text": [
      "sum of all element in a list is: 25\n",
      "sum of all element in a list is: 25\n"
     ]
    }
   ],
   "source": [
    "total = 0\n",
    "lst = [1,2,3,4,4,5,6]\n",
    "\n",
    "for element in range(0,len(lst)):\n",
    "    total = total +lst[element]\n",
    "print(\"sum of all element in a list is:\",total)"
   ]
  },
  {
   "cell_type": "markdown",
   "metadata": {},
   "source": [
    "3. Write a program to print the characters of a string in reverse order using a `for` loop."
   ]
  },
  {
   "cell_type": "code",
   "execution_count": 33,
   "metadata": {},
   "outputs": [
    {
     "name": "stdout",
     "output_type": "stream",
     "text": [
      "The reverse string is zan aibar ma i\n",
      "The reverse string is zan aibar ma i\n"
     ]
    }
   ],
   "source": [
    "string = \"i am rabia naz\"\n",
    "def reverse_string(str):  \n",
    "    str1 = \"\"  \n",
    "    for i in str:  \n",
    "        str1 = i + str1  \n",
    "    return str1  \n",
    "str =  \"i am rabia naz\" \n",
    "print(\"The reverse string is\",reverse_string(str)) "
   ]
  },
  {
   "cell_type": "markdown",
   "metadata": {},
   "source": [
    "4. Develop a program that finds the factorial of a given number using a `for` loop."
   ]
  },
  {
   "cell_type": "code",
   "execution_count": null,
   "metadata": {},
   "outputs": [],
   "source": [
    "num = int(input(\"enter any number :\"))\n",
    "for i in range(1,num+1):\n",
    "    fac = fac * i\n",
    "print(\"factorial of \", num, \"is\",fac)"
   ]
  },
  {
   "cell_type": "markdown",
   "metadata": {},
   "source": [
    "5. Create a program to print the multiplication table of a given number using a `for` loop."
   ]
  },
  {
   "cell_type": "code",
   "execution_count": 62,
   "metadata": {},
   "outputs": [
    {
     "name": "stdout",
     "output_type": "stream",
     "text": [
      "Enter the number for multiplication table: 10\n",
      "10 x 1 = 10\n",
      "10 x 2 = 20\n",
      "10 x 3 = 30\n",
      "10 x 4 = 40\n",
      "10 x 5 = 50\n",
      "10 x 6 = 60\n",
      "10 x 7 = 70\n",
      "10 x 8 = 80\n",
      "10 x 9 = 90\n",
      "10 x 10 = 100\n",
      "10 x 1 = 10\n",
      "10 x 2 = 20\n",
      "10 x 3 = 30\n",
      "10 x 4 = 40\n",
      "10 x 5 = 50\n",
      "10 x 6 = 60\n",
      "10 x 7 = 70\n",
      "10 x 8 = 80\n",
      "10 x 9 = 90\n",
      "10 x 10 = 100\n"
     ]
    }
   ],
   "source": [
    "number = int(input (\"Enter the number for multiplication table: \"))      \n",
    "for count in range(1, 11):      \n",
    "    print (number, 'x', count, '=', number * count)  \n"
   ]
  },
  {
   "cell_type": "markdown",
   "metadata": {},
   "source": [
    "6. Write a program that counts the number of even and odd numbers in a list using a `for` loop."
   ]
  },
  {
   "cell_type": "code",
   "execution_count": 105,
   "metadata": {},
   "outputs": [
    {
     "name": "stdout",
     "output_type": "stream",
     "text": [
      "total number of even num in list : 4\n",
      "total number of odd num in list : 3\n",
      "total number of even num in list : 4\n",
      "total number of odd num in list : 3\n"
     ]
    }
   ],
   "source": [
    "lst = [4,8,9,5,2,6,7]\n",
    "even_count,odd_count = 0,0\n",
    "for num in lst:\n",
    "    if num %2==0:\n",
    "        even_count+=1\n",
    "    else:\n",
    "        odd_count+=1\n",
    "print(\"total number of even num in list :\",even_count)\n",
    "      \n",
    "print(\"total number of odd num in list :\",odd_count)"
   ]
  },
  {
   "cell_type": "markdown",
   "metadata": {},
   "source": [
    "7. Develop a program that prints the squares of numbers from 1 to 5 using a `for` loop."
   ]
  },
  {
   "cell_type": "code",
   "execution_count": 106,
   "metadata": {},
   "outputs": [
    {
     "name": "stdout",
     "output_type": "stream",
     "text": [
      "List with square of integers from 1 to 50:\n",
      "[0, 1, 4, 9, 16, 25]\n",
      "List with square of integers from 1 to 50:\n",
      "[0, 1, 4, 9, 16, 25]\n"
     ]
    }
   ],
   "source": [
    " l = []\n",
    "for i in range(0,6):\n",
    "    l.append(i * i)\n",
    "print(\"List with square of integers from 1 to 5:\")\n",
    "print(l)"
   ]
  },
  {
   "cell_type": "markdown",
   "metadata": {},
   "source": [
    "8. Create a program to find the length of a string without using the `len()` function."
   ]
  },
  {
   "cell_type": "code",
   "execution_count": 112,
   "metadata": {},
   "outputs": [
    {
     "name": "stdout",
     "output_type": "stream",
     "text": [
      "length of string is 14\n",
      "length of string is 14\n"
     ]
    }
   ],
   "source": [
    "string = \"i am rabia naz\"\n",
    "count = 0\n",
    "for i in string:\n",
    "    count+=1\n",
    "print(\"length of string is\",count)"
   ]
  },
  {
   "cell_type": "markdown",
   "metadata": {},
   "source": [
    "9. Write a program that calculates the average of a list of numbers using a `for` loop."
   ]
  },
  {
   "cell_type": "code",
   "execution_count": 116,
   "metadata": {},
   "outputs": [
    {
     "name": "stdout",
     "output_type": "stream",
     "text": [
      "The average is 18.4\n",
      "The average is 18.4\n"
     ]
    }
   ],
   "source": [
    "def cal_average(num):\n",
    "    sum_num = 0\n",
    "    for i in num:\n",
    "        sum_num = sum_num + i           \n",
    "    avg = sum_num / len(num)\n",
    "    return avg\n",
    "print(\"The average is\", cal_average([18,25,3,41,5]))"
   ]
  },
  {
   "cell_type": "markdown",
   "metadata": {},
   "source": [
    "10. Develop a program that prints the first `n` Fibonacci numbers using a `for` loop."
   ]
  },
  {
   "cell_type": "code",
   "execution_count": 14,
   "metadata": {},
   "outputs": [
    {
     "name": "stdout",
     "output_type": "stream",
     "text": [
      "0 1 1 2 3 5 8 "
     ]
    }
   ],
   "source": [
    "def FibonacciNumbers(num):\n",
    "    if num==0:\n",
    "        return 0\n",
    "    elif num==1:\n",
    "        return 1\n",
    "    else:\n",
    "        return FibonacciNumbers(num-2) + FibonacciNumbers(num-1)\n",
    "n = 7\n",
    "for i in range(0,n):\n",
    "    print(FibonacciNumbers(i), end=\" \")\n"
   ]
  },
  {
   "cell_type": "markdown",
   "metadata": {},
   "source": [
    "11. Write a program to check if a given list contains any duplicates using a `for` loop."
   ]
  },
  {
   "cell_type": "code",
   "execution_count": 20,
   "metadata": {},
   "outputs": [
    {
     "name": "stdout",
     "output_type": "stream",
     "text": [
      "[5, 3, 2, 7, 8]\n"
     ]
    }
   ],
   "source": [
    "lst = [2,3,4,5,5,6,3,2,2,56,7,8,7,8]\n",
    "\n",
    "new_list = []\n",
    "duplicate_list = []\n",
    "for num in lst:\n",
    "    if num not in new_list:\n",
    "        new_list.append(num)\n",
    "    elif num not in duplicate_list:\n",
    "        duplicate_list .append(num)\n",
    "print(duplicate_list)"
   ]
  },
  {
   "cell_type": "markdown",
   "metadata": {},
   "source": [
    "12. Create a program that prints the prime numbers in a given range using a `for` loop."
   ]
  },
  {
   "cell_type": "code",
   "execution_count": 56,
   "metadata": {},
   "outputs": [
    {
     "name": "stdout",
     "output_type": "stream",
     "text": [
      "2 3 5 7 "
     ]
    }
   ],
   "source": [
    "def is_prime(n):\n",
    "    if (n==0 or n==1):\n",
    "        return False\n",
    "    for i in range(2,int(n**(1/2))+1):\n",
    "        if n%i==0:\n",
    "            return False\n",
    "    return True\n",
    "N = 10;\n",
    "for i in range(1,N):\n",
    "    if(is_prime(i)):\n",
    "        print(i,end=\" \")"
   ]
  },
  {
   "cell_type": "markdown",
   "metadata": {},
   "source": [
    "13. Develop a program that counts the number of vowels in a string using a `for` loop."
   ]
  },
  {
   "cell_type": "code",
   "execution_count": 72,
   "metadata": {},
   "outputs": [
    {
     "name": "stdout",
     "output_type": "stream",
     "text": [
      "total vobel in a string is: 0\n"
     ]
    }
   ],
   "source": [
    "string = \"i am rabia naz\"\n",
    "vowel = 'a','e','i','o','u'\n",
    "count = 0\n",
    "for char in string:\n",
    "    if char==vowel:\n",
    "        count+=1\n",
    "print(\"total vobel in a string is:\" ,count)"
   ]
  },
  {
   "cell_type": "markdown",
   "metadata": {},
   "source": [
    "14. Write a program to find the maximum element in a 2D list using a nested `for` loop."
   ]
  },
  {
   "cell_type": "code",
   "execution_count": 68,
   "metadata": {},
   "outputs": [
    {
     "name": "stdout",
     "output_type": "stream",
     "text": [
      "9\n"
     ]
    }
   ],
   "source": [
    "def prod(lis):\n",
    "    maxi = 0\n",
    "    for x in lis:\n",
    "        p = 1\n",
    "        p *= i\n",
    "        maxi = max(p, maxi)\n",
    "    return maxi\n",
    "l = [[1, 2, 3], [4, 5, 6], [7, 8, 9]]\n",
    "print(prod(l))\n"
   ]
  },
  {
   "cell_type": "markdown",
   "metadata": {},
   "source": [
    "15. Create a program that removes all occurrences of a specific element from a list using a `for` loop."
   ]
  },
  {
   "cell_type": "code",
   "execution_count": 74,
   "metadata": {},
   "outputs": [
    {
     "name": "stdout",
     "output_type": "stream",
     "text": [
      "after removing element from list: [20, 40, 50, 60]\n"
     ]
    }
   ],
   "source": [
    "lst = [10,20,40,10,50,60,10]\n",
    "element_to_remove = 10\n",
    "for x in lst:\n",
    "    if x==element_to_remove:\n",
    "        lst.remove(x)\n",
    "print(\"after removing element from list:\",lst)"
   ]
  },
  {
   "cell_type": "markdown",
   "metadata": {},
   "source": [
    "16. Develop a program that generates a multiplication table for numbers from 1 to 5 using a nested `for` loop."
   ]
  },
  {
   "cell_type": "code",
   "execution_count": 29,
   "metadata": {},
   "outputs": [
    {
     "name": "stdout",
     "output_type": "stream",
     "text": [
      "1 x 1 = 1\n",
      "1 x 2 = 2\n",
      "1 x 3 = 3\n",
      "1 x 4 = 4\n",
      "1 x 5 = 5\n",
      "1 x 6 = 6\n",
      "1 x 7 = 7\n",
      "1 x 8 = 8\n",
      "1 x 9 = 9\n",
      "1 x 10 = 10\n",
      "2 x 1 = 2\n",
      "2 x 2 = 4\n",
      "2 x 3 = 6\n",
      "2 x 4 = 8\n",
      "2 x 5 = 10\n",
      "2 x 6 = 12\n",
      "2 x 7 = 14\n",
      "2 x 8 = 16\n",
      "2 x 9 = 18\n",
      "2 x 10 = 20\n",
      "3 x 1 = 3\n",
      "3 x 2 = 6\n",
      "3 x 3 = 9\n",
      "3 x 4 = 12\n",
      "3 x 5 = 15\n",
      "3 x 6 = 18\n",
      "3 x 7 = 21\n",
      "3 x 8 = 24\n",
      "3 x 9 = 27\n",
      "3 x 10 = 30\n",
      "4 x 1 = 4\n",
      "4 x 2 = 8\n",
      "4 x 3 = 12\n",
      "4 x 4 = 16\n",
      "4 x 5 = 20\n",
      "4 x 6 = 24\n",
      "4 x 7 = 28\n",
      "4 x 8 = 32\n",
      "4 x 9 = 36\n",
      "4 x 10 = 40\n",
      "5 x 1 = 5\n",
      "5 x 2 = 10\n",
      "5 x 3 = 15\n",
      "5 x 4 = 20\n",
      "5 x 5 = 25\n",
      "5 x 6 = 30\n",
      "5 x 7 = 35\n",
      "5 x 8 = 40\n",
      "5 x 9 = 45\n",
      "5 x 10 = 50\n"
     ]
    }
   ],
   "source": [
    "for i in range (1,6):\n",
    "    for j in range (1,11):\n",
    "        result = i*j\n",
    "        print(i ,\"x\",j, \"=\", i*j)\n",
    "    "
   ]
  },
  {
   "cell_type": "markdown",
   "metadata": {},
   "source": [
    "17. Write a program that converts a list of Fahrenheit temperatures to Celsius using a `for` loop."
   ]
  },
  {
   "cell_type": "code",
   "execution_count": 48,
   "metadata": {},
   "outputs": [
    {
     "name": "stdout",
     "output_type": "stream",
     "text": [
      "[35.0, 40.0, 31.11111111111111, 36.666666666666664] Celsius\n"
     ]
    }
   ],
   "source": [
    "fahrenheit_temp =[95,104,88,98]\n",
    "celsius_temp = []\n",
    "for fahrenheit in fahrenheit_temp:\n",
    "    celsius = (fahrenheit-32)*5/9\n",
    "    celsius_temp.append(celsius)\n",
    "print(celsius_temp,\"Celsius\")"
   ]
  },
  {
   "cell_type": "markdown",
   "metadata": {},
   "source": [
    "18. Create a program to print the common elements from two lists using a `for` loop."
   ]
  },
  {
   "cell_type": "code",
   "execution_count": 58,
   "metadata": {},
   "outputs": [
    {
     "name": "stdout",
     "output_type": "stream",
     "text": [
      "[10, 40]\n"
     ]
    }
   ],
   "source": [
    "lst1 = [20,30,10,50,40]\n",
    "lst2 = [10,15,23,40,55]\n",
    "common_element =[]\n",
    "for char in lst1:\n",
    "    if char in lst2:\n",
    "        common_element.append(char)\n",
    "print(common_element)"
   ]
  },
  {
   "cell_type": "markdown",
   "metadata": {},
   "source": [
    "19. Develop a program that prints the pattern of right-angled triangles using a `for` loop. Use ‘*’ to draw the pattern"
   ]
  },
  {
   "cell_type": "code",
   "execution_count": 61,
   "metadata": {},
   "outputs": [
    {
     "name": "stdout",
     "output_type": "stream",
     "text": [
      "* \n",
      "* * \n",
      "* * * \n",
      "* * * * \n",
      "* * * * * \n",
      "* * * * * * \n",
      "* * * * * * * \n",
      "* * * * * * * * \n",
      "* * * * * * * * * \n",
      "* * * * * * * * * * \n"
     ]
    }
   ],
   "source": [
    "rows = 10\n",
    "for i in range(1,rows+1):\n",
    "    for j in range(1,i+1):\n",
    "        print(\"*\",end=\" \")\n",
    "    print()"
   ]
  },
  {
   "cell_type": "markdown",
   "metadata": {},
   "source": [
    "20. Write a program to find the greatest common divisor (GCD) of two numbers using a `for` loop."
   ]
  },
  {
   "cell_type": "code",
   "execution_count": 66,
   "metadata": {},
   "outputs": [
    {
     "name": "stdout",
     "output_type": "stream",
     "text": [
      "enter the first num :56\n",
      "enter the second num :88\n",
      "GCD = 8\n"
     ]
    }
   ],
   "source": [
    "def find_gcd(a,b):\n",
    "    while b:\n",
    "        a,b = b,a%b\n",
    "    return a\n",
    "num1 = int(input(\"enter the first num :\"))\n",
    "num2 = int(input(\"enter the second num :\"))\n",
    "print(\"GCD =\",find_gcd(num1,num2))"
   ]
  },
  {
   "cell_type": "markdown",
   "metadata": {},
   "source": [
    "21. Create a program that calculates the sum of the digits of numbers in a list using a list comprehension."
   ]
  },
  {
   "cell_type": "code",
   "execution_count": 71,
   "metadata": {},
   "outputs": [
    {
     "name": "stdout",
     "output_type": "stream",
     "text": [
      "sum of all digit in a list is = 311\n"
     ]
    }
   ],
   "source": [
    "lst = [34,78,45,98,56]\n",
    "for i in lst:\n",
    "    x =sum(lst)\n",
    "print(\"sum of all digit in a list is =\",x)"
   ]
  },
  {
   "cell_type": "markdown",
   "metadata": {},
   "source": [
    "22. Write a program to find the prime factors of a given number using a `for` loop and list comprehension."
   ]
  },
  {
   "cell_type": "code",
   "execution_count": 77,
   "metadata": {},
   "outputs": [
    {
     "name": "stdout",
     "output_type": "stream",
     "text": [
      "enter a number:10\n",
      "prime factor of  10  is : [2]\n"
     ]
    }
   ],
   "source": [
    "def prime_factor(n):\n",
    "    factor =[]\n",
    "    divisor = 2\n",
    "    while divisor <= n:\n",
    "        if n % divisor == 0:\n",
    "            factor.append(divisor)\n",
    "            n //= divisor\n",
    "        else:\n",
    "            divisor +=1\n",
    "        return factor\n",
    "num = int(input(\"enter a number:\"))\n",
    "factor = prime_factor(num)\n",
    "print(\"prime factor of \",num ,\" is :\" ,factor)"
   ]
  },
  {
   "cell_type": "markdown",
   "metadata": {},
   "source": [
    "23. Develop a program that extracts unique elements from a list and stores them in a new list using a list comprehension."
   ]
  },
  {
   "cell_type": "code",
   "execution_count": 83,
   "metadata": {},
   "outputs": [
    {
     "name": "stdout",
     "output_type": "stream",
     "text": [
      "Unique_element in new_lst is  ['python']\n"
     ]
    }
   ],
   "source": [
    "lst = [\"java\",\"python\",\"dsa\",\"c++\",\"sql\"]\n",
    "unique_element = [\"python\"]\n",
    "new_lst = []\n",
    "for element in lst:\n",
    "    if element in unique_element:\n",
    "        new_lst.append(element)\n",
    "        print(\"Unique_element in new_lst is \",new_lst)"
   ]
  },
  {
   "cell_type": "markdown",
   "metadata": {},
   "source": [
    "24. Create a program that generates a list of all palindromic numbers up to a specified limit using a list comprehension."
   ]
  },
  {
   "cell_type": "code",
   "execution_count": 91,
   "metadata": {},
   "outputs": [
    {
     "name": "stdout",
     "output_type": "stream",
     "text": [
      "121\n",
      "141\n",
      "252\n",
      "Total palindrome nos. are 3\n"
     ]
    }
   ],
   "source": [
    "def palindromeNumbers(lst):\n",
    "    count = 0\n",
    "    for i in lst:\n",
    "        if str(i) == str(i)[::-1]:\n",
    "            print(i)\n",
    "            count+= 1\n",
    "    print(\"Total palindrome nos. are\", count)\n",
    "lst = [10, 121, 133, 155, 141, 252]\n",
    "palindromeNumbers(lst)"
   ]
  },
  {
   "cell_type": "markdown",
   "metadata": {},
   "source": [
    "25. Write a program to flatten a nested list using list comprehension."
   ]
  },
  {
   "cell_type": "code",
   "execution_count": 101,
   "metadata": {},
   "outputs": [
    {
     "name": "stdout",
     "output_type": "stream",
     "text": [
      "[1, 2, 3, 4, 5, 6, 7, 8, 9]\n"
     ]
    }
   ],
   "source": [
    "def flatten_lst(nested_lst):\n",
    "    return[i for sublist in nested_lst for i in sublist]\n",
    "nested_lst = [[1,2,3,] ,[4,5,6] ,[7,8,9]]\n",
    "flattened_lst = flatten_lst(nested_lst)\n",
    "print(flattened_lst)"
   ]
  },
  {
   "cell_type": "markdown",
   "metadata": {},
   "source": [
    "26. Develop a program that computes the sum of even and odd numbers in a list separately using list\n",
    "comprehension."
   ]
  },
  {
   "cell_type": "code",
   "execution_count": 105,
   "metadata": {},
   "outputs": [
    {
     "name": "stdout",
     "output_type": "stream",
     "text": [
      "sum of even num is  26\n",
      "sum of odd num is   33\n"
     ]
    }
   ],
   "source": [
    "def count_even_odd_sum(lst):\n",
    "    even_sum = sum([num for num in lst if num %2==0])\n",
    "    odd_sum = sum([num for num in lst if num %2!=0])\n",
    "    return even_sum,odd_sum\n",
    "lst = [1,2,3,4,5,6,7,8,9,2,3,4,5,] \n",
    "even_sum,odd_sum =count_even_odd_sum(lst)\n",
    "print(\"sum of even num is \",even_sum)\n",
    "print(\"sum of odd num is  \",odd_sum)"
   ]
  },
  {
   "cell_type": "markdown",
   "metadata": {},
   "source": [
    "27. Create a program that generates a list of squares of odd numbers between 1 and 10 using list\n",
    "comprehension."
   ]
  },
  {
   "cell_type": "code",
   "execution_count": 107,
   "metadata": {},
   "outputs": [
    {
     "name": "stdout",
     "output_type": "stream",
     "text": [
      "square of odd number between 1 to 10 are : [1, 9, 25, 49, 81]\n"
     ]
    }
   ],
   "source": [
    "def count_odd_num_square(lst):\n",
    "    return [num**2 for num in lst if num %2!=0]\n",
    "lst = range(0,11)\n",
    "print(\"square of odd number between 1 to 10 are :\",count_odd_num_square(lst))"
   ]
  },
  {
   "cell_type": "markdown",
   "metadata": {},
   "source": [
    "28. Write a program that combines two lists into a dictionary using list comprehension."
   ]
  },
  {
   "cell_type": "code",
   "execution_count": 113,
   "metadata": {},
   "outputs": [
    {
     "name": "stdout",
     "output_type": "stream",
     "text": [
      "{'name': 'Rabia', 'age': '20', 'place': 'Munger'}\n"
     ]
    }
   ],
   "source": [
    "keys =[\"name\",\"age\",\"place\"]\n",
    "values = [\"Rabia\",\"20\",\"Munger\"]\n",
    "\n",
    "combined_lst ={keys[i]:values[i] for i in range (len(keys))}\n",
    "print(combined_lst)"
   ]
  },
  {
   "cell_type": "markdown",
   "metadata": {},
   "source": [
    "29. Develop a program that extracts the vowels from a string and stores them in a list\n",
    "using list comprehension."
   ]
  },
  {
   "cell_type": "code",
   "execution_count": 114,
   "metadata": {},
   "outputs": [
    {
     "name": "stdout",
     "output_type": "stream",
     "text": [
      "['e', 'o', 'i', 'i', 'e', 'u', 'o']\n"
     ]
    }
   ],
   "source": [
    "string = \"hello,pwskills,ineuron\"\n",
    "vowels =[char for char in string if char.lower() in 'aeiou']\n",
    "print(vowels)"
   ]
  },
  {
   "cell_type": "markdown",
   "metadata": {},
   "source": [
    "30. Create a program that removes all non-numeric characters from a list of strings using list comprehension."
   ]
  },
  {
   "cell_type": "code",
   "execution_count": 118,
   "metadata": {},
   "outputs": [
    {
     "name": "stdout",
     "output_type": "stream",
     "text": [
      "['xyz', 'abc', 'rabia']\n"
     ]
    }
   ],
   "source": [
    "lst = [\"123\",\"xyz\",\"abc\",\"3434\",\"rabia\"]\n",
    "non_numeric_character = [char for char in lst if char.isalpha()]\n",
    "print(non_numeric_character)"
   ]
  },
  {
   "cell_type": "markdown",
   "metadata": {},
   "source": [
    "31. Write a program to generate a list of prime numbers using the Sieve of Eratosthenes algorithm and list comprehension."
   ]
  },
  {
   "cell_type": "code",
   "execution_count": 119,
   "metadata": {},
   "outputs": [
    {
     "name": "stdout",
     "output_type": "stream",
     "text": [
      "[2, 3, 5, 7, 11, 13, 17, 19, 23, 29, 31, 37, 41, 43, 47]\n"
     ]
    }
   ],
   "source": [
    "def is_prime(n):\n",
    "    if n<=1:\n",
    "        return False\n",
    "    if n <=3:\n",
    "        return True\n",
    "    if n % 2==0 or n % 3 ==0:\n",
    "        return False\n",
    "    i = 5\n",
    "    while i*i<=n:\n",
    "        if n %i ==0 or n % (i+2)==0:\n",
    "            return False\n",
    "        i +=6\n",
    "    return True\n",
    "\n",
    "n = 50\n",
    "prime_num = [num for num in range(2,n+1)if is_prime(num)]\n",
    "print(prime_num)"
   ]
  },
  {
   "cell_type": "markdown",
   "metadata": {},
   "source": [
    "32. Create a program that generates a list of all Pythagorean triplets up to a specified limit using list comprehension."
   ]
  },
  {
   "cell_type": "code",
   "execution_count": 120,
   "metadata": {},
   "outputs": [
    {
     "name": "stdout",
     "output_type": "stream",
     "text": [
      "[(3, 4, 5), (5, 12, 13), (6, 8, 10), (8, 15, 17), (9, 12, 15)]\n"
     ]
    }
   ],
   "source": [
    "limit = 20\n",
    "pythagorean_triplets= [(a,b,c) for a in range(1,limit)for b in range(a,limit)for c in range(b,limit)if a**2 +b**2 == c**2]\n",
    "print(pythagorean_triplets)"
   ]
  },
  {
   "cell_type": "markdown",
   "metadata": {},
   "source": [
    "33. Develop a program that generates a list of all possible combinations of two lists using list comprehension."
   ]
  },
  {
   "cell_type": "code",
   "execution_count": 7,
   "metadata": {},
   "outputs": [
    {
     "name": "stdout",
     "output_type": "stream",
     "text": [
      "[[('a', 1), ('b', 4), ('c', 9)], [('a', 1), ('b', 4), ('d', 9)], [('a', 1), ('c', 4), ('b', 9)], [('a', 1), ('c', 4), ('d', 9)], [('a', 1), ('d', 4), ('b', 9)], [('a', 1), ('d', 4), ('c', 9)], [('b', 1), ('a', 4), ('c', 9)], [('b', 1), ('a', 4), ('d', 9)], [('b', 1), ('c', 4), ('a', 9)], [('b', 1), ('c', 4), ('d', 9)], [('b', 1), ('d', 4), ('a', 9)], [('b', 1), ('d', 4), ('c', 9)], [('c', 1), ('a', 4), ('b', 9)], [('c', 1), ('a', 4), ('d', 9)], [('c', 1), ('b', 4), ('a', 9)], [('c', 1), ('b', 4), ('d', 9)], [('c', 1), ('d', 4), ('a', 9)], [('c', 1), ('d', 4), ('b', 9)], [('d', 1), ('a', 4), ('b', 9)], [('d', 1), ('a', 4), ('c', 9)], [('d', 1), ('b', 4), ('a', 9)], [('d', 1), ('b', 4), ('c', 9)], [('d', 1), ('c', 4), ('a', 9)], [('d', 1), ('c', 4), ('b', 9)]]\n"
     ]
    }
   ],
   "source": [
    "import itertools\n",
    "from itertools import permutations \n",
    "list_1 = [\"a\", \"b\", \"c\",\"d\"]\n",
    "list_2 = [1,4,9]\n",
    "unique_combinations = []\n",
    "permut = itertools.permutations(list_1, len(list_2))\n",
    "for comb in permut:\n",
    "    zipped = zip(comb, list_2)\n",
    "    unique_combinations.append(list(zipped))\n",
    "print(unique_combinations)"
   ]
  },
  {
   "cell_type": "markdown",
   "metadata": {},
   "source": [
    "34. Write a program that calculates the mean, median, and mode of a list of numbers using list\n",
    "comprehension."
   ]
  },
  {
   "cell_type": "code",
   "execution_count": null,
   "metadata": {},
   "outputs": [],
   "source": [
    "n = len(n_num) \n",
    "get_sum = sum(n_num) \n",
    "mean = get_sum / n \n",
    "print(\"Mean / Average is: \" + str(mean)) \n"
   ]
  },
  {
   "cell_type": "markdown",
   "metadata": {},
   "source": [
    "35. Create a program that generates Pascal's triangle up to a specified number of rows using list\n",
    "comprehension."
   ]
  },
  {
   "cell_type": "code",
   "execution_count": 10,
   "metadata": {},
   "outputs": [
    {
     "name": "stdout",
     "output_type": "stream",
     "text": [
      "      1 \n",
      "     1 1 \n",
      "    1 2 1 \n",
      "   1 3 3 1 \n",
      "  1 4 6 4 1 \n"
     ]
    }
   ],
   "source": [
    "from math import factorial\n",
    "n = 5\n",
    "for i in range(n):\n",
    "    for j in range(n-i+1):\n",
    "        print(end=\" \")\n",
    "    for j in range(i+1):\n",
    "        print(factorial(i)//(factorial(j)*factorial(i-j)), end=\" \")\n",
    "    print()"
   ]
  },
  {
   "cell_type": "markdown",
   "metadata": {},
   "source": [
    "36. Develop a program that calculates the sum of the digits of a factorial of numbers from 1 to 5 using list comprehension."
   ]
  },
  {
   "cell_type": "code",
   "execution_count": 11,
   "metadata": {},
   "outputs": [
    {
     "name": "stdout",
     "output_type": "stream",
     "text": [
      "10539\n"
     ]
    }
   ],
   "source": [
    "def multiply(v, x):\n",
    "    carry = 0\n",
    "    size = len(v)\n",
    "    for i in range(size):\n",
    "        res = carry + v[i] * x\n",
    "        v[i] = res % 10\n",
    "        carry = res // 10\n",
    "\n",
    "    while (carry != 0):\n",
    "        v.append(carry % 10)\n",
    "        carry //= 10\n",
    "def findSumOfDigits( n):\n",
    "    v = []\n",
    "    v.append(1)\n",
    "    for i in range(1, n + 1):\n",
    "        multiply(v, i)\n",
    "    sum = 0\n",
    "    size = len(v)\n",
    "    for i in range(size):\n",
    "        sum += v[i]\n",
    "    return sum\n",
    "if __name__ == \"__main__\":\n",
    "    n = 1000\n",
    "    print(findSumOfDigits(n))"
   ]
  },
  {
   "cell_type": "markdown",
   "metadata": {},
   "source": [
    "37. Write a program that finds the longest word in a sentence using list comprehension."
   ]
  },
  {
   "cell_type": "code",
   "execution_count": 21,
   "metadata": {},
   "outputs": [
    {
     "name": "stdout",
     "output_type": "stream",
     "text": [
      "confident\n"
     ]
    }
   ],
   "source": [
    "def longestword(s):\n",
    "    s=s.split()\n",
    "    print(max(s,key=len))\n",
    "if __name__ == \"__main__\":\n",
    "    s = \"be confident and be yourself\"\n",
    "    longestword(s)"
   ]
  },
  {
   "cell_type": "markdown",
   "metadata": {},
   "source": [
    "38. Create a program that filters a list of strings to include only those with more than three vowels using list comprehension."
   ]
  },
  {
   "cell_type": "code",
   "execution_count": 22,
   "metadata": {},
   "outputs": [
    {
     "name": "stdout",
     "output_type": "stream",
     "text": [
      "The original list is : ['java', 'datasceince', 'ineuron', 'pwskills']\n",
      "Maximum vowels word : datasceince\n"
     ]
    }
   ],
   "source": [
    "test_list = [\"java\", \"datasceince\", \"ineuron\", \"pwskills\"]\n",
    "\n",
    "print(\"The original list is : \" + str(test_list))\n",
    "\n",
    "res = \"\"\n",
    "max_len = 0\n",
    "for ele in test_list:\n",
    "    vow_len = len([el for el in ele if el in ['a', 'e', 'o', 'u', 'i']])\n",
    "\n",
    "    if vow_len > max_len:\n",
    "        max_len = vow_len\n",
    "        res = ele\n",
    "print(\"Maximum vowels word : \" + str(res))"
   ]
  },
  {
   "cell_type": "markdown",
   "metadata": {},
   "source": [
    "39. Develop a program that calculates the sum of the digits of numbers from 1 to 1000 using list\n",
    "comprehension."
   ]
  },
  {
   "cell_type": "code",
   "execution_count": 28,
   "metadata": {},
   "outputs": [
    {
     "name": "stdout",
     "output_type": "stream",
     "text": [
      "sum of all digit in a list is = 499500\n"
     ]
    }
   ],
   "source": [
    "lst = range(1,1000)\n",
    "for i in lst:\n",
    "    x =sum(lst)\n",
    "print(\"sum of all digit in a list is =\",x)\n",
    "   "
   ]
  },
  {
   "cell_type": "markdown",
   "metadata": {},
   "source": [
    "40. Write a program that generates a list of prime palindromic numbers using list comprehension."
   ]
  },
  {
   "cell_type": "code",
   "execution_count": 26,
   "metadata": {},
   "outputs": [
    {
     "name": "stdout",
     "output_type": "stream",
     "text": [
      "[3, 4, 5, 5, 5, 6, 6, 7, 7, 7, 7, 7, 8, 8, 8, 8, 9, 9, 9, 9, 9, 9]\n"
     ]
    }
   ],
   "source": [
    "prime_list = [x for x in range(1,10) for y in range(2,x) if x % x == 0 and x % 1 == 0 and x % y != 0]\n",
    "print(prime_list)"
   ]
  },
  {
   "cell_type": "code",
   "execution_count": null,
   "metadata": {},
   "outputs": [],
   "source": []
  }
 ],
 "metadata": {
  "kernelspec": {
   "display_name": "Python 3",
   "language": "python",
   "name": "python3"
  },
  "language_info": {
   "codemirror_mode": {
    "name": "ipython",
    "version": 3
   },
   "file_extension": ".py",
   "mimetype": "text/x-python",
   "name": "python",
   "nbconvert_exporter": "python",
   "pygments_lexer": "ipython3",
   "version": "3.7.6"
  }
 },
 "nbformat": 4,
 "nbformat_minor": 4
}
